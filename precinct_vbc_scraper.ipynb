{
 "cells": [
  {
   "cell_type": "markdown",
   "metadata": {},
   "source": [
    "# Precinct VBC Scraper\n",
    "The code for each voting center is obtained to gather results data at the precinct level. This may also reflect the Election Returns (ERs) submitted to COMELEC as of scraping time."
   ]
  },
  {
   "cell_type": "code",
   "execution_count": 1,
   "metadata": {},
   "outputs": [
    {
     "data": {
      "text/html": [
       "<div>\n",
       "<style scoped>\n",
       "    .dataframe tbody tr th:only-of-type {\n",
       "        vertical-align: middle;\n",
       "    }\n",
       "\n",
       "    .dataframe tbody tr th {\n",
       "        vertical-align: top;\n",
       "    }\n",
       "\n",
       "    .dataframe thead th {\n",
       "        text-align: right;\n",
       "    }\n",
       "</style>\n",
       "<table border=\"1\" class=\"dataframe\">\n",
       "  <thead>\n",
       "    <tr style=\"text-align: right;\">\n",
       "      <th></th>\n",
       "      <th>region</th>\n",
       "      <th>province</th>\n",
       "      <th>municipality</th>\n",
       "      <th>barangay</th>\n",
       "      <th>precinct_id</th>\n",
       "      <th>cluster</th>\n",
       "      <th>clustertotal</th>\n",
       "      <th>clustered_precincts</th>\n",
       "      <th>pollingcenter</th>\n",
       "    </tr>\n",
       "  </thead>\n",
       "  <tbody>\n",
       "    <tr>\n",
       "      <th>0</th>\n",
       "      <td>BARMM</td>\n",
       "      <td>BASILAN</td>\n",
       "      <td>AKBAR</td>\n",
       "      <td>LINONGAN</td>\n",
       "      <td>7080001</td>\n",
       "      <td>1</td>\n",
       "      <td>423</td>\n",
       "      <td>0012A, 0012P1, 0011A</td>\n",
       "      <td>LINONGAN ELEMENTARY SCHOOL, BARANGAY LINONGAN,...</td>\n",
       "    </tr>\n",
       "    <tr>\n",
       "      <th>1</th>\n",
       "      <td>BARMM</td>\n",
       "      <td>BASILAN</td>\n",
       "      <td>AKBAR</td>\n",
       "      <td>LINONGAN</td>\n",
       "      <td>7080002</td>\n",
       "      <td>2</td>\n",
       "      <td>411</td>\n",
       "      <td>0011B, 0011C, 0012B</td>\n",
       "      <td>LINONGAN ELEMENTARY SCHOOL, BARANGAY LINONGAN,...</td>\n",
       "    </tr>\n",
       "    <tr>\n",
       "      <th>2</th>\n",
       "      <td>BARMM</td>\n",
       "      <td>BASILAN</td>\n",
       "      <td>AKBAR</td>\n",
       "      <td>MANGUSO</td>\n",
       "      <td>7080003</td>\n",
       "      <td>3</td>\n",
       "      <td>313</td>\n",
       "      <td>0035A, 0035C, 0035P1, 0035B</td>\n",
       "      <td>AKBAR ELEMENTARY SCHOOL, BARANGAY UPPER BATO-B...</td>\n",
       "    </tr>\n",
       "    <tr>\n",
       "      <th>3</th>\n",
       "      <td>BARMM</td>\n",
       "      <td>BASILAN</td>\n",
       "      <td>AKBAR</td>\n",
       "      <td>UPPER SINANGKAPAN</td>\n",
       "      <td>7080004</td>\n",
       "      <td>4</td>\n",
       "      <td>655</td>\n",
       "      <td>0050A, 0050B, 0050C, 0050D, 0050P1</td>\n",
       "      <td>BARANGAY UPPER SINANGKAPAN COVERED COURT (BUSC...</td>\n",
       "    </tr>\n",
       "    <tr>\n",
       "      <th>4</th>\n",
       "      <td>BARMM</td>\n",
       "      <td>BASILAN</td>\n",
       "      <td>AKBAR</td>\n",
       "      <td>CADDAYAN</td>\n",
       "      <td>7080005</td>\n",
       "      <td>5</td>\n",
       "      <td>479</td>\n",
       "      <td>0054A, 0055A, 0055B, 0055C, 0055P1</td>\n",
       "      <td>CADDAYAN ELEMENTARY SCHOOL, BARANGAY CADDAYAN,...</td>\n",
       "    </tr>\n",
       "  </tbody>\n",
       "</table>\n",
       "</div>"
      ],
      "text/plain": [
       "  region province municipality           barangay  precinct_id  cluster  \\\n",
       "0  BARMM  BASILAN        AKBAR           LINONGAN      7080001        1   \n",
       "1  BARMM  BASILAN        AKBAR           LINONGAN      7080002        2   \n",
       "2  BARMM  BASILAN        AKBAR            MANGUSO      7080003        3   \n",
       "3  BARMM  BASILAN        AKBAR  UPPER SINANGKAPAN      7080004        4   \n",
       "4  BARMM  BASILAN        AKBAR           CADDAYAN      7080005        5   \n",
       "\n",
       "   clustertotal                 clustered_precincts  \\\n",
       "0           423                0012A, 0012P1, 0011A   \n",
       "1           411                 0011B, 0011C, 0012B   \n",
       "2           313         0035A, 0035C, 0035P1, 0035B   \n",
       "3           655  0050A, 0050B, 0050C, 0050D, 0050P1   \n",
       "4           479  0054A, 0055A, 0055B, 0055C, 0055P1   \n",
       "\n",
       "                                       pollingcenter  \n",
       "0  LINONGAN ELEMENTARY SCHOOL, BARANGAY LINONGAN,...  \n",
       "1  LINONGAN ELEMENTARY SCHOOL, BARANGAY LINONGAN,...  \n",
       "2  AKBAR ELEMENTARY SCHOOL, BARANGAY UPPER BATO-B...  \n",
       "3  BARANGAY UPPER SINANGKAPAN COVERED COURT (BUSC...  \n",
       "4  CADDAYAN ELEMENTARY SCHOOL, BARANGAY CADDAYAN,...  "
      ]
     },
     "execution_count": 1,
     "metadata": {},
     "output_type": "execute_result"
    }
   ],
   "source": [
    "import pandas as pd\n",
    "\n",
    "nle_pop = pd.read_csv('2022NLEPOP.csv', encoding='utf-8')\n",
    "nle_pop.head()"
   ]
  },
  {
   "cell_type": "code",
   "execution_count": 2,
   "metadata": {},
   "outputs": [
    {
     "data": {
      "text/html": [
       "<div>\n",
       "<style scoped>\n",
       "    .dataframe tbody tr th:only-of-type {\n",
       "        vertical-align: middle;\n",
       "    }\n",
       "\n",
       "    .dataframe tbody tr th {\n",
       "        vertical-align: top;\n",
       "    }\n",
       "\n",
       "    .dataframe thead th {\n",
       "        text-align: right;\n",
       "    }\n",
       "</style>\n",
       "<table border=\"1\" class=\"dataframe\">\n",
       "  <thead>\n",
       "    <tr style=\"text-align: right;\">\n",
       "      <th></th>\n",
       "      <th>region</th>\n",
       "      <th>province</th>\n",
       "      <th>municipality</th>\n",
       "      <th>barangay</th>\n",
       "      <th>precinct_id</th>\n",
       "      <th>cluster</th>\n",
       "      <th>clustertotal</th>\n",
       "      <th>clustered_precincts</th>\n",
       "      <th>pollingcenter</th>\n",
       "      <th>precinct_four</th>\n",
       "    </tr>\n",
       "  </thead>\n",
       "  <tbody>\n",
       "    <tr>\n",
       "      <th>0</th>\n",
       "      <td>BARMM</td>\n",
       "      <td>BASILAN</td>\n",
       "      <td>AKBAR</td>\n",
       "      <td>LINONGAN</td>\n",
       "      <td>7080001</td>\n",
       "      <td>1</td>\n",
       "      <td>423</td>\n",
       "      <td>0012A, 0012P1, 0011A</td>\n",
       "      <td>LINONGAN ELEMENTARY SCHOOL, BARANGAY LINONGAN,...</td>\n",
       "      <td>7080</td>\n",
       "    </tr>\n",
       "    <tr>\n",
       "      <th>1</th>\n",
       "      <td>BARMM</td>\n",
       "      <td>BASILAN</td>\n",
       "      <td>AKBAR</td>\n",
       "      <td>LINONGAN</td>\n",
       "      <td>7080002</td>\n",
       "      <td>2</td>\n",
       "      <td>411</td>\n",
       "      <td>0011B, 0011C, 0012B</td>\n",
       "      <td>LINONGAN ELEMENTARY SCHOOL, BARANGAY LINONGAN,...</td>\n",
       "      <td>7080</td>\n",
       "    </tr>\n",
       "    <tr>\n",
       "      <th>2</th>\n",
       "      <td>BARMM</td>\n",
       "      <td>BASILAN</td>\n",
       "      <td>AKBAR</td>\n",
       "      <td>MANGUSO</td>\n",
       "      <td>7080003</td>\n",
       "      <td>3</td>\n",
       "      <td>313</td>\n",
       "      <td>0035A, 0035C, 0035P1, 0035B</td>\n",
       "      <td>AKBAR ELEMENTARY SCHOOL, BARANGAY UPPER BATO-B...</td>\n",
       "      <td>7080</td>\n",
       "    </tr>\n",
       "    <tr>\n",
       "      <th>3</th>\n",
       "      <td>BARMM</td>\n",
       "      <td>BASILAN</td>\n",
       "      <td>AKBAR</td>\n",
       "      <td>UPPER SINANGKAPAN</td>\n",
       "      <td>7080004</td>\n",
       "      <td>4</td>\n",
       "      <td>655</td>\n",
       "      <td>0050A, 0050B, 0050C, 0050D, 0050P1</td>\n",
       "      <td>BARANGAY UPPER SINANGKAPAN COVERED COURT (BUSC...</td>\n",
       "      <td>7080</td>\n",
       "    </tr>\n",
       "    <tr>\n",
       "      <th>4</th>\n",
       "      <td>BARMM</td>\n",
       "      <td>BASILAN</td>\n",
       "      <td>AKBAR</td>\n",
       "      <td>CADDAYAN</td>\n",
       "      <td>7080005</td>\n",
       "      <td>5</td>\n",
       "      <td>479</td>\n",
       "      <td>0054A, 0055A, 0055B, 0055C, 0055P1</td>\n",
       "      <td>CADDAYAN ELEMENTARY SCHOOL, BARANGAY CADDAYAN,...</td>\n",
       "      <td>7080</td>\n",
       "    </tr>\n",
       "  </tbody>\n",
       "</table>\n",
       "</div>"
      ],
      "text/plain": [
       "  region province municipality           barangay  precinct_id  cluster  \\\n",
       "0  BARMM  BASILAN        AKBAR           LINONGAN      7080001        1   \n",
       "1  BARMM  BASILAN        AKBAR           LINONGAN      7080002        2   \n",
       "2  BARMM  BASILAN        AKBAR            MANGUSO      7080003        3   \n",
       "3  BARMM  BASILAN        AKBAR  UPPER SINANGKAPAN      7080004        4   \n",
       "4  BARMM  BASILAN        AKBAR           CADDAYAN      7080005        5   \n",
       "\n",
       "   clustertotal                 clustered_precincts  \\\n",
       "0           423                0012A, 0012P1, 0011A   \n",
       "1           411                 0011B, 0011C, 0012B   \n",
       "2           313         0035A, 0035C, 0035P1, 0035B   \n",
       "3           655  0050A, 0050B, 0050C, 0050D, 0050P1   \n",
       "4           479  0054A, 0055A, 0055B, 0055C, 0055P1   \n",
       "\n",
       "                                       pollingcenter precinct_four  \n",
       "0  LINONGAN ELEMENTARY SCHOOL, BARANGAY LINONGAN,...          7080  \n",
       "1  LINONGAN ELEMENTARY SCHOOL, BARANGAY LINONGAN,...          7080  \n",
       "2  AKBAR ELEMENTARY SCHOOL, BARANGAY UPPER BATO-B...          7080  \n",
       "3  BARANGAY UPPER SINANGKAPAN COVERED COURT (BUSC...          7080  \n",
       "4  CADDAYAN ELEMENTARY SCHOOL, BARANGAY CADDAYAN,...          7080  "
      ]
     },
     "execution_count": 2,
     "metadata": {},
     "output_type": "execute_result"
    }
   ],
   "source": [
    "nle_pop['precinct_four'] = nle_pop['precinct_id'].astype(str).str[:4]\n",
    "nle_pop.head()"
   ]
  },
  {
   "cell_type": "code",
   "execution_count": 3,
   "metadata": {},
   "outputs": [
    {
     "data": {
      "text/plain": [
       "(array(['7080', '7090', '7010', ..., '6816', '6817', '6818'], dtype=object),\n",
       " 1682)"
      ]
     },
     "execution_count": 3,
     "metadata": {},
     "output_type": "execute_result"
    }
   ],
   "source": [
    "unique_codes = nle_pop['precinct_four'].unique()\n",
    "unique_codes, len(unique_codes)"
   ]
  },
  {
   "cell_type": "code",
   "execution_count": 4,
   "metadata": {},
   "outputs": [
    {
     "data": {
      "text/plain": [
       "'https://2022electionresults.comelec.gov.ph/data/regions/static_precincts_7080.json'"
      ]
     },
     "execution_count": 4,
     "metadata": {},
     "output_type": "execute_result"
    }
   ],
   "source": [
    "endpoint = lambda x: \"https://2022electionresults.comelec.gov.ph/data/regions/static_precincts_\" + x + '.json'\n",
    "endpoint(unique_codes[0])"
   ]
  },
  {
   "cell_type": "code",
   "execution_count": 5,
   "metadata": {},
   "outputs": [
    {
     "data": {
      "text/plain": [
       "('https://2022electionresults.comelec.gov.ph/data/regions/static_precincts_1220.json',\n",
       " 200,\n",
       " b'{\"12200002\":{\"vbc\":118259,\"path\":\"0/07/1200/1220/1220001/12200002\"},\"12200003\":{\"vbc\":118260,\"path\":\"0/07/1200/1220/1220002/12200003\"},\"12200004\":{\"vbc\":118261,\"path\":\"0/07/1200/1220/1220003/12200004\"},\"12200005\":{\"vbc\":118262,\"path\":\"0/07/1200/1220/1220004/12200005\"},\"12200006\":{\"vbc\":118263,\"path\":\"0/07/1200/1220/1220005/12200006\"},\"12200007\":{\"vbc\":118264,\"path\":\"0/07/1200/1220/1220006/12200007\"},\"12200008\":{\"vbc\":118265,\"path\":\"0/07/1200/1220/1220007/12200008\"},\"12200009\":{\"vbc\":118266,\"path\":\"0/07/1200/1220/1220008/12200009\"},\"12200010\":{\"vbc\":118267,\"path\":\"0/07/1200/1220/1220009/12200010\"},\"12200011\":{\"vbc\":118268,\"path\":\"0/07/1200/1220/1220010/12200011\"},\"12200012\":{\"vbc\":118269,\"path\":\"0/07/1200/1220/1220011/12200012\"},\"12200013\":{\"vbc\":118270,\"path\":\"0/07/1200/1220/1220012/12200013\"},\"12200014\":{\"vbc\":118271,\"path\":\"0/07/1200/1220/1220013/12200014\"},\"12200015\":{\"vbc\":118272,\"path\":\"0/07/1200/1220/1220014/12200015\"},\"12200016\":{\"vbc\":118273,\"path\":\"0/07/1200/1220/1220015/12200016\"},\"12200017\":{\"vbc\":118274,\"path\":\"0/07/1200/1220/1220016/12200017\"},\"12200018\":{\"vbc\":118275,\"path\":\"0/07/1200/1220/1220017/12200018\"},\"12200019\":{\"vbc\":118276,\"path\":\"0/07/1200/1220/1220018/12200019\"},\"12200020\":{\"vbc\":118277,\"path\":\"0/07/1200/1220/1220019/12200020\"},\"12200021\":{\"vbc\":118278,\"path\":\"0/07/1200/1220/1220020/12200021\"},\"12200022\":{\"vbc\":118279,\"path\":\"0/07/1200/1220/1220021/12200022\"},\"12200023\":{\"vbc\":118280,\"path\":\"0/07/1200/1220/1220022/12200023\"},\"12200024\":{\"vbc\":118281,\"path\":\"0/07/1200/1220/1220023/12200024\"},\"12200025\":{\"vbc\":118282,\"path\":\"0/07/1200/1220/1220024/12200025\"},\"12200026\":{\"vbc\":118283,\"path\":\"0/07/1200/1220/1220025/12200026\"},\"12200027\":{\"vbc\":118284,\"path\":\"0/07/1200/1220/1220026/12200027\"},\"12200028\":{\"vbc\":118285,\"path\":\"0/07/1200/1220/1220027/12200028\"},\"12200029\":{\"vbc\":118286,\"path\":\"0/07/1200/1220/1220028/12200029\"},\"12200030\":{\"vbc\":118287,\"path\":\"0/07/1200/1220/1220029/12200030\"},\"12200001\":{\"vbc\":118288,\"path\":\"0/07/1200/1220/1220030/12200001\"},\"12200031\":{\"vbc\":118289,\"path\":\"0/07/1200/1220/1220031/12200031\"},\"12200032\":{\"vbc\":118290,\"path\":\"0/07/1200/1220/1220033/12200032\"},\"12200033\":{\"vbc\":118291,\"path\":\"0/07/1200/1220/1220036/12200033\"},\"12200035\":{\"vbc\":118292,\"path\":\"0/07/1200/1220/1220037/12200035\"},\"12200034\":{\"vbc\":118293,\"path\":\"0/07/1200/1220/1220038/12200034\"},\"1220\":{\"vbc\":215691,\"path\":\"0/07/1200/1220/1220\"}}')"
      ]
     },
     "execution_count": 5,
     "metadata": {},
     "output_type": "execute_result"
    }
   ],
   "source": [
    "import requests as r\n",
    "\n",
    "\n",
    "headers = {\"User-Agent\": \"Mozilla/5.0 (Windows NT 10.0; Win64; x64) AppleWebKit/537.36 (KHTML, like Gecko) Chrome/70.0.3538.77 Safari/537.36\"}\n",
    "link = endpoint(unique_codes[140])\n",
    "req = r.get(link, headers=headers)\n",
    "link, req.status_code, req.content"
   ]
  },
  {
   "cell_type": "markdown",
   "metadata": {},
   "source": [
    "This needs user-agent headers - might blacklist IP eventually but data should be open so in principle, they have no grounds. Randomize user-agent just in case."
   ]
  },
  {
   "cell_type": "code",
   "execution_count": 6,
   "metadata": {},
   "outputs": [
    {
     "name": "stdout",
     "output_type": "stream",
     "text": [
      "Requirement already satisfied: random_user_agent in c:\\users\\james\\appdata\\local\\programs\\python\\python310\\lib\\site-packages (1.0.1)\n"
     ]
    },
    {
     "name": "stderr",
     "output_type": "stream",
     "text": [
      "WARNING: You are using pip version 21.2.3; however, version 22.0.4 is available.\n",
      "You should consider upgrading via the 'C:\\Users\\james\\AppData\\Local\\Programs\\Python\\Python310\\python.exe -m pip install --upgrade pip' command.\n"
     ]
    }
   ],
   "source": [
    "!pip install random_user_agent"
   ]
  },
  {
   "cell_type": "code",
   "execution_count": 7,
   "metadata": {},
   "outputs": [
    {
     "data": {
      "text/plain": [
       "'Mozilla/5.0 (X11; U; Linux x86_64; en-US) AppleWebKit/533.3 (KHTML, like Gecko) Chrome/5.0.354.0 Safari/533.3'"
      ]
     },
     "execution_count": 7,
     "metadata": {},
     "output_type": "execute_result"
    }
   ],
   "source": [
    "from random_user_agent.user_agent import UserAgent\n",
    "from random_user_agent.params import SoftwareName, OperatingSystem\n",
    "\n",
    "\n",
    "# you can also import SoftwareEngine, HardwareType, SoftwareType, Popularity from random_user_agent.params\n",
    "# you can also set number of user agents required by providing `limit` as parameter\n",
    "\n",
    "software_names = [SoftwareName.CHROME.value]\n",
    "operating_systems = [OperatingSystem.WINDOWS.value, OperatingSystem.LINUX.value]   \n",
    "\n",
    "user_agent_rotator = UserAgent(software_names=software_names, operating_systems=operating_systems, limit=100)\n",
    "\n",
    "user_agent_rotator.get_random_user_agent()"
   ]
  },
  {
   "cell_type": "code",
   "execution_count": 8,
   "metadata": {},
   "outputs": [
    {
     "data": {
      "text/plain": [
       "('https://2022electionresults.comelec.gov.ph/data/regions/static_precincts_1220.json',\n",
       " 200,\n",
       " {'12200002': {'vbc': 118259, 'path': '0/07/1200/1220/1220001/12200002'},\n",
       "  '12200003': {'vbc': 118260, 'path': '0/07/1200/1220/1220002/12200003'},\n",
       "  '12200004': {'vbc': 118261, 'path': '0/07/1200/1220/1220003/12200004'},\n",
       "  '12200005': {'vbc': 118262, 'path': '0/07/1200/1220/1220004/12200005'},\n",
       "  '12200006': {'vbc': 118263, 'path': '0/07/1200/1220/1220005/12200006'},\n",
       "  '12200007': {'vbc': 118264, 'path': '0/07/1200/1220/1220006/12200007'},\n",
       "  '12200008': {'vbc': 118265, 'path': '0/07/1200/1220/1220007/12200008'},\n",
       "  '12200009': {'vbc': 118266, 'path': '0/07/1200/1220/1220008/12200009'},\n",
       "  '12200010': {'vbc': 118267, 'path': '0/07/1200/1220/1220009/12200010'},\n",
       "  '12200011': {'vbc': 118268, 'path': '0/07/1200/1220/1220010/12200011'},\n",
       "  '12200012': {'vbc': 118269, 'path': '0/07/1200/1220/1220011/12200012'},\n",
       "  '12200013': {'vbc': 118270, 'path': '0/07/1200/1220/1220012/12200013'},\n",
       "  '12200014': {'vbc': 118271, 'path': '0/07/1200/1220/1220013/12200014'},\n",
       "  '12200015': {'vbc': 118272, 'path': '0/07/1200/1220/1220014/12200015'},\n",
       "  '12200016': {'vbc': 118273, 'path': '0/07/1200/1220/1220015/12200016'},\n",
       "  '12200017': {'vbc': 118274, 'path': '0/07/1200/1220/1220016/12200017'},\n",
       "  '12200018': {'vbc': 118275, 'path': '0/07/1200/1220/1220017/12200018'},\n",
       "  '12200019': {'vbc': 118276, 'path': '0/07/1200/1220/1220018/12200019'},\n",
       "  '12200020': {'vbc': 118277, 'path': '0/07/1200/1220/1220019/12200020'},\n",
       "  '12200021': {'vbc': 118278, 'path': '0/07/1200/1220/1220020/12200021'},\n",
       "  '12200022': {'vbc': 118279, 'path': '0/07/1200/1220/1220021/12200022'},\n",
       "  '12200023': {'vbc': 118280, 'path': '0/07/1200/1220/1220022/12200023'},\n",
       "  '12200024': {'vbc': 118281, 'path': '0/07/1200/1220/1220023/12200024'},\n",
       "  '12200025': {'vbc': 118282, 'path': '0/07/1200/1220/1220024/12200025'},\n",
       "  '12200026': {'vbc': 118283, 'path': '0/07/1200/1220/1220025/12200026'},\n",
       "  '12200027': {'vbc': 118284, 'path': '0/07/1200/1220/1220026/12200027'},\n",
       "  '12200028': {'vbc': 118285, 'path': '0/07/1200/1220/1220027/12200028'},\n",
       "  '12200029': {'vbc': 118286, 'path': '0/07/1200/1220/1220028/12200029'},\n",
       "  '12200030': {'vbc': 118287, 'path': '0/07/1200/1220/1220029/12200030'},\n",
       "  '12200001': {'vbc': 118288, 'path': '0/07/1200/1220/1220030/12200001'},\n",
       "  '12200031': {'vbc': 118289, 'path': '0/07/1200/1220/1220031/12200031'},\n",
       "  '12200032': {'vbc': 118290, 'path': '0/07/1200/1220/1220033/12200032'},\n",
       "  '12200033': {'vbc': 118291, 'path': '0/07/1200/1220/1220036/12200033'},\n",
       "  '12200035': {'vbc': 118292, 'path': '0/07/1200/1220/1220037/12200035'},\n",
       "  '12200034': {'vbc': 118293, 'path': '0/07/1200/1220/1220038/12200034'},\n",
       "  '1220': {'vbc': 215691, 'path': '0/07/1200/1220/1220'}})"
      ]
     },
     "execution_count": 8,
     "metadata": {},
     "output_type": "execute_result"
    }
   ],
   "source": [
    "# TAKE 2\n",
    "link = endpoint(unique_codes[140])\n",
    "req = r.get(link, headers={\"User-Agent\": user_agent_rotator.get_random_user_agent()})\n",
    "link, req.status_code, req.json()"
   ]
  },
  {
   "cell_type": "markdown",
   "metadata": {},
   "source": [
    "We are now ready to scrape data! First, make directory for this."
   ]
  },
  {
   "cell_type": "code",
   "execution_count": 9,
   "metadata": {},
   "outputs": [],
   "source": [
    "import os\n",
    "\n",
    "DIRECTORY = 'regions/'\n",
    "if not os.path.exists(DIRECTORY):\n",
    "    os.mkdir(DIRECTORY)"
   ]
  },
  {
   "cell_type": "markdown",
   "metadata": {},
   "source": [
    "Create sample JSON data."
   ]
  },
  {
   "cell_type": "code",
   "execution_count": 10,
   "metadata": {},
   "outputs": [],
   "source": [
    "import json\n",
    "\n",
    "with open('sample_vbc_data.json', 'w', encoding='utf-8') as f:\n",
    "    json.dump(req.json(), f, ensure_ascii=True, indent=4)"
   ]
  },
  {
   "cell_type": "markdown",
   "metadata": {},
   "source": [
    "Let's add a timestamp too!"
   ]
  },
  {
   "cell_type": "code",
   "execution_count": 11,
   "metadata": {},
   "outputs": [],
   "source": [
    "import time\n",
    "seconds = time.time()\n",
    "payload = req.json()\n",
    "payload['timestamp'] = seconds\n",
    "\n",
    "with open('sample_vbc_data.json', 'w', encoding='utf-8') as f:\n",
    "    json.dump(payload, f, ensure_ascii=True, indent=4)"
   ]
  },
  {
   "cell_type": "code",
   "execution_count": 12,
   "metadata": {},
   "outputs": [],
   "source": [
    "def scrape_vbc(code, user_agent_rotator, endpoint, directory, thresh=3):\n",
    "    link = endpoint(code)\n",
    "    req = r.get(link, headers={\"User-Agent\": user_agent_rotator.get_random_user_agent()})\n",
    "    try:\n",
    "        attempt = thresh\n",
    "        while attempt!=0 and req.status_code!=200:\n",
    "            print('Retrying '+link)\n",
    "            time.sleep(0.4)\n",
    "            req = r.get(link, headers={\"User-Agent\": user_agent_rotator.get_random_user_agent()})\n",
    "            attempt-=1\n",
    "        else:\n",
    "            seconds = time.time()\n",
    "            payload = req.json()\n",
    "            payload['timestamp'] = seconds\n",
    "            with open(directory+code+'.json', 'w', encoding='utf-8') as f:\n",
    "                json.dump(payload, f, ensure_ascii=True, indent=4)\n",
    "    except Exception as e:\n",
    "        print(e)\n",
    "    return (req.status_code, code)"
   ]
  },
  {
   "cell_type": "code",
   "execution_count": 13,
   "metadata": {},
   "outputs": [
    {
     "data": {
      "text/plain": [
       "(200, '6603')"
      ]
     },
     "execution_count": 13,
     "metadata": {},
     "output_type": "execute_result"
    }
   ],
   "source": [
    "scrape_vbc(unique_codes[93], user_agent_rotator, endpoint, DIRECTORY)"
   ]
  },
  {
   "cell_type": "code",
   "execution_count": 14,
   "metadata": {},
   "outputs": [
    {
     "data": {
      "text/plain": [
       "'6616'"
      ]
     },
     "execution_count": 14,
     "metadata": {},
     "output_type": "execute_result"
    }
   ],
   "source": [
    "unique_codes[100]"
   ]
  },
  {
   "cell_type": "code",
   "execution_count": 23,
   "metadata": {},
   "outputs": [
    {
     "data": {
      "application/vnd.jupyter.widget-view+json": {
       "model_id": "268bed7514464853a95edcf7333dfae3",
       "version_major": 2,
       "version_minor": 0
      },
      "text/plain": [
       "  0%|          | 0/100 [00:00<?, ?it/s]"
      ]
     },
     "metadata": {},
     "output_type": "display_data"
    },
    {
     "name": "stdout",
     "output_type": "stream",
     "text": [
      "Retrying https://2022electionresults.comelec.gov.ph/data/regions/static_precincts_9060.json\n",
      "Retrying https://2022electionresults.comelec.gov.ph/data/regions/static_precincts_9060.json\n",
      "Retrying https://2022electionresults.comelec.gov.ph/data/regions/static_precincts_9060.json\n",
      "Expecting value: line 1 column 1 (char 0)\n",
      "Retrying https://2022electionresults.comelec.gov.ph/data/regions/static_precincts_1060.json\n",
      "Retrying https://2022electionresults.comelec.gov.ph/data/regions/static_precincts_1060.json\n",
      "Retrying https://2022electionresults.comelec.gov.ph/data/regions/static_precincts_1060.json\n",
      "Expecting value: line 1 column 1 (char 0)\n",
      "Retrying https://2022electionresults.comelec.gov.ph/data/regions/static_precincts_6050.json\n",
      "Retrying https://2022electionresults.comelec.gov.ph/data/regions/static_precincts_6050.json\n",
      "Retrying https://2022electionresults.comelec.gov.ph/data/regions/static_precincts_6050.json\n",
      "Expecting value: line 1 column 1 (char 0)\n",
      "Retrying https://2022electionresults.comelec.gov.ph/data/regions/static_precincts_1050.json\n",
      "Retrying https://2022electionresults.comelec.gov.ph/data/regions/static_precincts_1050.json\n",
      "Retrying https://2022electionresults.comelec.gov.ph/data/regions/static_precincts_1050.json\n",
      "Expecting value: line 1 column 1 (char 0)\n",
      "Retrying https://2022electionresults.comelec.gov.ph/data/regions/static_precincts_4050.json\n",
      "Retrying https://2022electionresults.comelec.gov.ph/data/regions/static_precincts_4050.json\n",
      "Retrying https://2022electionresults.comelec.gov.ph/data/regions/static_precincts_4050.json\n",
      "Expecting value: line 1 column 1 (char 0)\n",
      "Retrying https://2022electionresults.comelec.gov.ph/data/regions/static_precincts_5090.json\n",
      "Retrying https://2022electionresults.comelec.gov.ph/data/regions/static_precincts_5090.json\n",
      "Retrying https://2022electionresults.comelec.gov.ph/data/regions/static_precincts_5090.json\n",
      "Expecting value: line 1 column 1 (char 0)\n",
      "Retrying https://2022electionresults.comelec.gov.ph/data/regions/static_precincts_4160.json\n",
      "Retrying https://2022electionresults.comelec.gov.ph/data/regions/static_precincts_4160.json\n",
      "Retrying https://2022electionresults.comelec.gov.ph/data/regions/static_precincts_4160.json\n",
      "Expecting value: line 1 column 1 (char 0)\n",
      "Retrying https://2022electionresults.comelec.gov.ph/data/regions/static_precincts_6060.json\n",
      "Retrying https://2022electionresults.comelec.gov.ph/data/regions/static_precincts_6060.json\n",
      "Retrying https://2022electionresults.comelec.gov.ph/data/regions/static_precincts_6060.json\n",
      "Expecting value: line 1 column 1 (char 0)\n",
      "Retrying https://2022electionresults.comelec.gov.ph/data/regions/static_precincts_6090.json\n",
      "Retrying https://2022electionresults.comelec.gov.ph/data/regions/static_precincts_6090.json\n",
      "Retrying https://2022electionresults.comelec.gov.ph/data/regions/static_precincts_6090.json\n",
      "Expecting value: line 1 column 1 (char 0)\n",
      "Retrying https://2022electionresults.comelec.gov.ph/data/regions/static_precincts_5170.json\n",
      "Retrying https://2022electionresults.comelec.gov.ph/data/regions/static_precincts_5170.json\n",
      "Retrying https://2022electionresults.comelec.gov.ph/data/regions/static_precincts_5170.json\n",
      "Expecting value: line 1 column 1 (char 0)\n",
      "Retrying https://2022electionresults.comelec.gov.ph/data/regions/static_precincts_1140.json\n",
      "Retrying https://2022electionresults.comelec.gov.ph/data/regions/static_precincts_1140.json\n",
      "Retrying https://2022electionresults.comelec.gov.ph/data/regions/static_precincts_1140.json\n",
      "Expecting value: line 1 column 1 (char 0)\n",
      "Retrying https://2022electionresults.comelec.gov.ph/data/regions/static_precincts_1270.json\n",
      "Retrying https://2022electionresults.comelec.gov.ph/data/regions/static_precincts_1270.json\n",
      "Retrying https://2022electionresults.comelec.gov.ph/data/regions/static_precincts_1270.json\n",
      "Expecting value: line 1 column 1 (char 0)\n",
      "Retrying https://2022electionresults.comelec.gov.ph/data/regions/static_precincts_6030.json\n",
      "Retrying https://2022electionresults.comelec.gov.ph/data/regions/static_precincts_6030.json\n",
      "Retrying https://2022electionresults.comelec.gov.ph/data/regions/static_precincts_6030.json\n",
      "Expecting value: line 1 column 1 (char 0)\n",
      "Retrying https://2022electionresults.comelec.gov.ph/data/regions/static_precincts_2050.json\n",
      "Retrying https://2022electionresults.comelec.gov.ph/data/regions/static_precincts_2050.json\n",
      "Retrying https://2022electionresults.comelec.gov.ph/data/regions/static_precincts_2050.json\n",
      "Expecting value: line 1 column 1 (char 0)\n",
      "Retrying https://2022electionresults.comelec.gov.ph/data/regions/static_precincts_6170.json\n",
      "Retrying https://2022electionresults.comelec.gov.ph/data/regions/static_precincts_6170.json\n",
      "Retrying https://2022electionresults.comelec.gov.ph/data/regions/static_precincts_6170.json\n",
      "Expecting value: line 1 column 1 (char 0)\n",
      "Retrying https://2022electionresults.comelec.gov.ph/data/regions/static_precincts_7040.json\n",
      "Retrying https://2022electionresults.comelec.gov.ph/data/regions/static_precincts_7040.json\n",
      "Retrying https://2022electionresults.comelec.gov.ph/data/regions/static_precincts_7040.json\n",
      "Expecting value: line 1 column 1 (char 0)\n",
      "Retrying https://2022electionresults.comelec.gov.ph/data/regions/static_precincts_7060.json\n",
      "Retrying https://2022electionresults.comelec.gov.ph/data/regions/static_precincts_7060.json\n",
      "Retrying https://2022electionresults.comelec.gov.ph/data/regions/static_precincts_7060.json\n",
      "Expecting value: line 1 column 1 (char 0)\n",
      "Retrying https://2022electionresults.comelec.gov.ph/data/regions/static_precincts_5120.json\n",
      "Retrying https://2022electionresults.comelec.gov.ph/data/regions/static_precincts_5120.json\n",
      "Retrying https://2022electionresults.comelec.gov.ph/data/regions/static_precincts_5120.json\n",
      "Expecting value: line 1 column 1 (char 0)\n",
      "Retrying https://2022electionresults.comelec.gov.ph/data/regions/static_precincts_9030.json\n",
      "Retrying https://2022electionresults.comelec.gov.ph/data/regions/static_precincts_9030.json\n",
      "Retrying https://2022electionresults.comelec.gov.ph/data/regions/static_precincts_9030.json\n",
      "Expecting value: line 1 column 1 (char 0)\n",
      "Retrying https://2022electionresults.comelec.gov.ph/data/regions/static_precincts_6150.json\n",
      "Retrying https://2022electionresults.comelec.gov.ph/data/regions/static_precincts_6150.json\n",
      "Retrying https://2022electionresults.comelec.gov.ph/data/regions/static_precincts_6150.json\n",
      "Expecting value: line 1 column 1 (char 0)\n",
      "Retrying https://2022electionresults.comelec.gov.ph/data/regions/static_precincts_5180.json\n",
      "Retrying https://2022electionresults.comelec.gov.ph/data/regions/static_precincts_5180.json\n",
      "Retrying https://2022electionresults.comelec.gov.ph/data/regions/static_precincts_5180.json\n",
      "Expecting value: line 1 column 1 (char 0)\n",
      "Retrying https://2022electionresults.comelec.gov.ph/data/regions/static_precincts_2070.json\n",
      "Retrying https://2022electionresults.comelec.gov.ph/data/regions/static_precincts_2070.json\n",
      "Retrying https://2022electionresults.comelec.gov.ph/data/regions/static_precincts_2070.json\n",
      "Expecting value: line 1 column 1 (char 0)\n",
      "Retrying https://2022electionresults.comelec.gov.ph/data/regions/static_precincts_7050.json\n",
      "Retrying https://2022electionresults.comelec.gov.ph/data/regions/static_precincts_7050.json\n",
      "Retrying https://2022electionresults.comelec.gov.ph/data/regions/static_precincts_7050.json\n",
      "Expecting value: line 1 column 1 (char 0)\n",
      "Retrying https://2022electionresults.comelec.gov.ph/data/regions/static_precincts_5050.json\n",
      "Retrying https://2022electionresults.comelec.gov.ph/data/regions/static_precincts_5050.json\n",
      "Retrying https://2022electionresults.comelec.gov.ph/data/regions/static_precincts_5050.json\n",
      "Expecting value: line 1 column 1 (char 0)\n",
      "Retrying https://2022electionresults.comelec.gov.ph/data/regions/static_precincts_5040.json\n",
      "Retrying https://2022electionresults.comelec.gov.ph/data/regions/static_precincts_5040.json\n",
      "Retrying https://2022electionresults.comelec.gov.ph/data/regions/static_precincts_5040.json\n",
      "Expecting value: line 1 column 1 (char 0)\n",
      "Retrying https://2022electionresults.comelec.gov.ph/data/regions/static_precincts_1130.json\n",
      "Retrying https://2022electionresults.comelec.gov.ph/data/regions/static_precincts_1130.json\n",
      "Retrying https://2022electionresults.comelec.gov.ph/data/regions/static_precincts_1130.json\n",
      "Expecting value: line 1 column 1 (char 0)\n",
      "Retrying https://2022electionresults.comelec.gov.ph/data/regions/static_precincts_4170.json\n",
      "Retrying https://2022electionresults.comelec.gov.ph/data/regions/static_precincts_4170.json\n",
      "Retrying https://2022electionresults.comelec.gov.ph/data/regions/static_precincts_4170.json\n",
      "Expecting value: line 1 column 1 (char 0)\n",
      "Retrying https://2022electionresults.comelec.gov.ph/data/regions/static_precincts_7090.json\n",
      "Retrying https://2022electionresults.comelec.gov.ph/data/regions/static_precincts_7090.json\n",
      "Retrying https://2022electionresults.comelec.gov.ph/data/regions/static_precincts_7090.json\n",
      "Expecting value: line 1 column 1 (char 0)\n",
      "Retrying https://2022electionresults.comelec.gov.ph/data/regions/static_precincts_5070.json\n",
      "Retrying https://2022electionresults.comelec.gov.ph/data/regions/static_precincts_5070.json\n",
      "Retrying https://2022electionresults.comelec.gov.ph/data/regions/static_precincts_5070.json\n",
      "Expecting value: line 1 column 1 (char 0)\n",
      "Retrying https://2022electionresults.comelec.gov.ph/data/regions/static_precincts_8010.json\n",
      "Retrying https://2022electionresults.comelec.gov.ph/data/regions/static_precincts_8010.json\n",
      "Retrying https://2022electionresults.comelec.gov.ph/data/regions/static_precincts_8010.json\n",
      "Expecting value: line 1 column 1 (char 0)\n",
      "Retrying https://2022electionresults.comelec.gov.ph/data/regions/static_precincts_8080.json\n",
      "Retrying https://2022electionresults.comelec.gov.ph/data/regions/static_precincts_8080.json\n",
      "Retrying https://2022electionresults.comelec.gov.ph/data/regions/static_precincts_8080.json\n",
      "Expecting value: line 1 column 1 (char 0)\n",
      "Retrying https://2022electionresults.comelec.gov.ph/data/regions/static_precincts_1190.json\n",
      "Retrying https://2022electionresults.comelec.gov.ph/data/regions/static_precincts_1190.json\n",
      "Retrying https://2022electionresults.comelec.gov.ph/data/regions/static_precincts_1190.json\n",
      "Expecting value: line 1 column 1 (char 0)\n",
      "Retrying https://2022electionresults.comelec.gov.ph/data/regions/static_precincts_8030.json\n",
      "Retrying https://2022electionresults.comelec.gov.ph/data/regions/static_precincts_8030.json\n",
      "Retrying https://2022electionresults.comelec.gov.ph/data/regions/static_precincts_8030.json\n",
      "Expecting value: line 1 column 1 (char 0)\n",
      "Retrying https://2022electionresults.comelec.gov.ph/data/regions/static_precincts_3090.json\n",
      "Retrying https://2022electionresults.comelec.gov.ph/data/regions/static_precincts_3090.json\n",
      "Retrying https://2022electionresults.comelec.gov.ph/data/regions/static_precincts_3090.json\n",
      "Expecting value: line 1 column 1 (char 0)\n",
      "Retrying https://2022electionresults.comelec.gov.ph/data/regions/static_precincts_6180.json\n",
      "Retrying https://2022electionresults.comelec.gov.ph/data/regions/static_precincts_6180.json\n",
      "Retrying https://2022electionresults.comelec.gov.ph/data/regions/static_precincts_6180.json\n",
      "Expecting value: line 1 column 1 (char 0)\n",
      "Retrying https://2022electionresults.comelec.gov.ph/data/regions/static_precincts_6140.json\n",
      "Retrying https://2022electionresults.comelec.gov.ph/data/regions/static_precincts_6140.json\n",
      "Retrying https://2022electionresults.comelec.gov.ph/data/regions/static_precincts_6140.json\n",
      "Expecting value: line 1 column 1 (char 0)\n",
      "Retrying https://2022electionresults.comelec.gov.ph/data/regions/static_precincts_5030.json\n",
      "Retrying https://2022electionresults.comelec.gov.ph/data/regions/static_precincts_5030.json\n",
      "Retrying https://2022electionresults.comelec.gov.ph/data/regions/static_precincts_5030.json\n",
      "Expecting value: line 1 column 1 (char 0)\n",
      "Retrying https://2022electionresults.comelec.gov.ph/data/regions/static_precincts_9040.json\n",
      "Retrying https://2022electionresults.comelec.gov.ph/data/regions/static_precincts_9040.json\n",
      "Retrying https://2022electionresults.comelec.gov.ph/data/regions/static_precincts_9040.json\n",
      "Expecting value: line 1 column 1 (char 0)\n",
      "Retrying https://2022electionresults.comelec.gov.ph/data/regions/static_precincts_1090.json\n",
      "Retrying https://2022electionresults.comelec.gov.ph/data/regions/static_precincts_1090.json\n",
      "Retrying https://2022electionresults.comelec.gov.ph/data/regions/static_precincts_1090.json\n",
      "Expecting value: line 1 column 1 (char 0)\n",
      "Retrying https://2022electionresults.comelec.gov.ph/data/regions/static_precincts_3050.json\n",
      "Retrying https://2022electionresults.comelec.gov.ph/data/regions/static_precincts_3050.json\n",
      "Retrying https://2022electionresults.comelec.gov.ph/data/regions/static_precincts_3050.json\n",
      "Expecting value: line 1 column 1 (char 0)\n",
      "Retrying https://2022electionresults.comelec.gov.ph/data/regions/static_precincts_7070.json\n",
      "Retrying https://2022electionresults.comelec.gov.ph/data/regions/static_precincts_7070.json\n",
      "Retrying https://2022electionresults.comelec.gov.ph/data/regions/static_precincts_7070.json\n",
      "Expecting value: line 1 column 1 (char 0)\n",
      "Retrying https://2022electionresults.comelec.gov.ph/data/regions/static_precincts_1040.json\n",
      "Retrying https://2022electionresults.comelec.gov.ph/data/regions/static_precincts_1040.json\n",
      "Retrying https://2022electionresults.comelec.gov.ph/data/regions/static_precincts_1040.json\n",
      "Expecting value: line 1 column 1 (char 0)\n",
      "Retrying https://2022electionresults.comelec.gov.ph/data/regions/static_precincts_4090.json\n",
      "Retrying https://2022electionresults.comelec.gov.ph/data/regions/static_precincts_4090.json\n",
      "Retrying https://2022electionresults.comelec.gov.ph/data/regions/static_precincts_4090.json\n",
      "Expecting value: line 1 column 1 (char 0)\n",
      "Retrying https://2022electionresults.comelec.gov.ph/data/regions/static_precincts_4030.json\n",
      "Retrying https://2022electionresults.comelec.gov.ph/data/regions/static_precincts_4030.json\n",
      "Retrying https://2022electionresults.comelec.gov.ph/data/regions/static_precincts_4030.json\n",
      "Expecting value: line 1 column 1 (char 0)\n",
      "Retrying https://2022electionresults.comelec.gov.ph/data/regions/static_precincts_7020.json\n",
      "Retrying https://2022electionresults.comelec.gov.ph/data/regions/static_precincts_7020.json\n",
      "Retrying https://2022electionresults.comelec.gov.ph/data/regions/static_precincts_7020.json\n",
      "Expecting value: line 1 column 1 (char 0)\n",
      "Retrying https://2022electionresults.comelec.gov.ph/data/regions/static_precincts_2030.json\n",
      "Retrying https://2022electionresults.comelec.gov.ph/data/regions/static_precincts_2030.json\n",
      "Retrying https://2022electionresults.comelec.gov.ph/data/regions/static_precincts_2030.json\n",
      "Expecting value: line 1 column 1 (char 0)\n",
      "Retrying https://2022electionresults.comelec.gov.ph/data/regions/static_precincts_5060.json\n",
      "Retrying https://2022electionresults.comelec.gov.ph/data/regions/static_precincts_5060.json\n",
      "Retrying https://2022electionresults.comelec.gov.ph/data/regions/static_precincts_5060.json\n",
      "Expecting value: line 1 column 1 (char 0)\n",
      "Retrying https://2022electionresults.comelec.gov.ph/data/regions/static_precincts_8050.json\n",
      "Retrying https://2022electionresults.comelec.gov.ph/data/regions/static_precincts_8050.json\n",
      "Retrying https://2022electionresults.comelec.gov.ph/data/regions/static_precincts_8050.json\n",
      "Expecting value: line 1 column 1 (char 0)\n",
      "Retrying https://2022electionresults.comelec.gov.ph/data/regions/static_precincts_2080.json\n",
      "Retrying https://2022electionresults.comelec.gov.ph/data/regions/static_precincts_2080.json\n",
      "Retrying https://2022electionresults.comelec.gov.ph/data/regions/static_precincts_2080.json\n",
      "Expecting value: line 1 column 1 (char 0)\n",
      "Retrying https://2022electionresults.comelec.gov.ph/data/regions/static_precincts_3060.json\n",
      "Retrying https://2022electionresults.comelec.gov.ph/data/regions/static_precincts_3060.json\n",
      "Retrying https://2022electionresults.comelec.gov.ph/data/regions/static_precincts_3060.json\n",
      "Expecting value: line 1 column 1 (char 0)\n",
      "Retrying https://2022electionresults.comelec.gov.ph/data/regions/static_precincts_6120.json\n",
      "Retrying https://2022electionresults.comelec.gov.ph/data/regions/static_precincts_6120.json\n",
      "Retrying https://2022electionresults.comelec.gov.ph/data/regions/static_precincts_6120.json\n",
      "Expecting value: line 1 column 1 (char 0)\n",
      "Retrying https://2022electionresults.comelec.gov.ph/data/regions/static_precincts_4060.json\n",
      "Retrying https://2022electionresults.comelec.gov.ph/data/regions/static_precincts_4060.json\n",
      "Retrying https://2022electionresults.comelec.gov.ph/data/regions/static_precincts_4060.json\n",
      "Expecting value: line 1 column 1 (char 0)\n",
      "Retrying https://2022electionresults.comelec.gov.ph/data/regions/static_precincts_8040.json\n",
      "Retrying https://2022electionresults.comelec.gov.ph/data/regions/static_precincts_8040.json\n",
      "Retrying https://2022electionresults.comelec.gov.ph/data/regions/static_precincts_8040.json\n",
      "Expecting value: line 1 column 1 (char 0)\n",
      "Retrying https://2022electionresults.comelec.gov.ph/data/regions/static_precincts_4010.json\n",
      "Retrying https://2022electionresults.comelec.gov.ph/data/regions/static_precincts_4010.json\n",
      "Retrying https://2022electionresults.comelec.gov.ph/data/regions/static_precincts_4010.json\n",
      "Expecting value: line 1 column 1 (char 0)\n",
      "Retrying https://2022electionresults.comelec.gov.ph/data/regions/static_precincts_5020.json\n",
      "Retrying https://2022electionresults.comelec.gov.ph/data/regions/static_precincts_5020.json\n",
      "Retrying https://2022electionresults.comelec.gov.ph/data/regions/static_precincts_5020.json\n",
      "Expecting value: line 1 column 1 (char 0)\n",
      "Retrying https://2022electionresults.comelec.gov.ph/data/regions/static_precincts_1250.json\n",
      "Retrying https://2022electionresults.comelec.gov.ph/data/regions/static_precincts_1250.json\n",
      "Retrying https://2022electionresults.comelec.gov.ph/data/regions/static_precincts_1250.json\n",
      "Expecting value: line 1 column 1 (char 0)\n",
      "Retrying https://2022electionresults.comelec.gov.ph/data/regions/static_precincts_4130.json\n",
      "Retrying https://2022electionresults.comelec.gov.ph/data/regions/static_precincts_4130.json\n",
      "Retrying https://2022electionresults.comelec.gov.ph/data/regions/static_precincts_4130.json\n",
      "Expecting value: line 1 column 1 (char 0)\n",
      "Retrying https://2022electionresults.comelec.gov.ph/data/regions/static_precincts_5160.json\n",
      "Retrying https://2022electionresults.comelec.gov.ph/data/regions/static_precincts_5160.json\n",
      "Retrying https://2022electionresults.comelec.gov.ph/data/regions/static_precincts_5160.json\n",
      "Expecting value: line 1 column 1 (char 0)\n",
      "Retrying https://2022electionresults.comelec.gov.ph/data/regions/static_precincts_3080.json\n",
      "Retrying https://2022electionresults.comelec.gov.ph/data/regions/static_precincts_3080.json\n",
      "Retrying https://2022electionresults.comelec.gov.ph/data/regions/static_precincts_3080.json\n",
      "Expecting value: line 1 column 1 (char 0)\n",
      "Retrying https://2022electionresults.comelec.gov.ph/data/regions/static_precincts_7130.json\n",
      "Retrying https://2022electionresults.comelec.gov.ph/data/regions/static_precincts_7130.json\n",
      "Retrying https://2022electionresults.comelec.gov.ph/data/regions/static_precincts_7130.json\n",
      "Expecting value: line 1 column 1 (char 0)\n",
      "Retrying https://2022electionresults.comelec.gov.ph/data/regions/static_precincts_6040.json\n",
      "Retrying https://2022electionresults.comelec.gov.ph/data/regions/static_precincts_6040.json\n",
      "Retrying https://2022electionresults.comelec.gov.ph/data/regions/static_precincts_6040.json\n",
      "Expecting value: line 1 column 1 (char 0)\n",
      "Retrying https://2022electionresults.comelec.gov.ph/data/regions/static_precincts_1150.json\n",
      "Retrying https://2022electionresults.comelec.gov.ph/data/regions/static_precincts_1150.json\n",
      "Retrying https://2022electionresults.comelec.gov.ph/data/regions/static_precincts_1150.json\n",
      "Expecting value: line 1 column 1 (char 0)\n",
      "Retrying https://2022electionresults.comelec.gov.ph/data/regions/static_precincts_4070.json\n",
      "Retrying https://2022electionresults.comelec.gov.ph/data/regions/static_precincts_4070.json\n",
      "Retrying https://2022electionresults.comelec.gov.ph/data/regions/static_precincts_4070.json\n",
      "Expecting value: line 1 column 1 (char 0)\n",
      "Retrying https://2022electionresults.comelec.gov.ph/data/regions/static_precincts_3140.json\n",
      "Retrying https://2022electionresults.comelec.gov.ph/data/regions/static_precincts_3140.json\n",
      "Retrying https://2022electionresults.comelec.gov.ph/data/regions/static_precincts_3140.json\n",
      "Expecting value: line 1 column 1 (char 0)\n",
      "Retrying https://2022electionresults.comelec.gov.ph/data/regions/static_precincts_7030.json\n",
      "Retrying https://2022electionresults.comelec.gov.ph/data/regions/static_precincts_7030.json\n",
      "Retrying https://2022electionresults.comelec.gov.ph/data/regions/static_precincts_7030.json\n",
      "Expecting value: line 1 column 1 (char 0)\n",
      "Retrying https://2022electionresults.comelec.gov.ph/data/regions/static_precincts_1070.json\n",
      "Retrying https://2022electionresults.comelec.gov.ph/data/regions/static_precincts_1070.json\n",
      "Retrying https://2022electionresults.comelec.gov.ph/data/regions/static_precincts_1070.json\n",
      "Expecting value: line 1 column 1 (char 0)\n",
      "Retrying https://2022electionresults.comelec.gov.ph/data/regions/static_precincts_5140.json\n",
      "Retrying https://2022electionresults.comelec.gov.ph/data/regions/static_precincts_5140.json\n",
      "Retrying https://2022electionresults.comelec.gov.ph/data/regions/static_precincts_5140.json\n",
      "Expecting value: line 1 column 1 (char 0)\n",
      "Retrying https://2022electionresults.comelec.gov.ph/data/regions/static_precincts_1160.json\n",
      "Retrying https://2022electionresults.comelec.gov.ph/data/regions/static_precincts_1160.json\n",
      "Retrying https://2022electionresults.comelec.gov.ph/data/regions/static_precincts_1160.json\n",
      "Expecting value: line 1 column 1 (char 0)\n",
      "Retrying https://2022electionresults.comelec.gov.ph/data/regions/static_precincts_5130.json\n",
      "Retrying https://2022electionresults.comelec.gov.ph/data/regions/static_precincts_5130.json\n",
      "Retrying https://2022electionresults.comelec.gov.ph/data/regions/static_precincts_5130.json\n",
      "Expecting value: line 1 column 1 (char 0)\n",
      "Retrying https://2022electionresults.comelec.gov.ph/data/regions/static_precincts_5080.json\n",
      "Retrying https://2022electionresults.comelec.gov.ph/data/regions/static_precincts_5080.json\n",
      "Retrying https://2022electionresults.comelec.gov.ph/data/regions/static_precincts_5080.json\n",
      "Expecting value: line 1 column 1 (char 0)\n",
      "Retrying https://2022electionresults.comelec.gov.ph/data/regions/static_precincts_8120.json\n",
      "Retrying https://2022electionresults.comelec.gov.ph/data/regions/static_precincts_8120.json\n",
      "Retrying https://2022electionresults.comelec.gov.ph/data/regions/static_precincts_8120.json\n",
      "Expecting value: line 1 column 1 (char 0)\n",
      "Retrying https://2022electionresults.comelec.gov.ph/data/regions/static_precincts_4140.json\n",
      "Retrying https://2022electionresults.comelec.gov.ph/data/regions/static_precincts_4140.json\n",
      "Retrying https://2022electionresults.comelec.gov.ph/data/regions/static_precincts_4140.json\n",
      "Expecting value: line 1 column 1 (char 0)\n",
      "Retrying https://2022electionresults.comelec.gov.ph/data/regions/static_precincts_6160.json\n",
      "Retrying https://2022electionresults.comelec.gov.ph/data/regions/static_precincts_6160.json\n",
      "Retrying https://2022electionresults.comelec.gov.ph/data/regions/static_precincts_6160.json\n",
      "Expecting value: line 1 column 1 (char 0)\n",
      "Retrying https://2022electionresults.comelec.gov.ph/data/regions/static_precincts_4080.json\n",
      "Retrying https://2022electionresults.comelec.gov.ph/data/regions/static_precincts_4080.json\n",
      "Retrying https://2022electionresults.comelec.gov.ph/data/regions/static_precincts_4080.json\n",
      "Expecting value: line 1 column 1 (char 0)\n",
      "Retrying https://2022electionresults.comelec.gov.ph/data/regions/static_precincts_4020.json\n",
      "Retrying https://2022electionresults.comelec.gov.ph/data/regions/static_precincts_4020.json\n",
      "Retrying https://2022electionresults.comelec.gov.ph/data/regions/static_precincts_4020.json\n",
      "Expecting value: line 1 column 1 (char 0)\n",
      "Retrying https://2022electionresults.comelec.gov.ph/data/regions/static_precincts_1180.json\n",
      "Retrying https://2022electionresults.comelec.gov.ph/data/regions/static_precincts_1180.json\n",
      "Retrying https://2022electionresults.comelec.gov.ph/data/regions/static_precincts_1180.json\n",
      "Expecting value: line 1 column 1 (char 0)\n",
      "Retrying https://2022electionresults.comelec.gov.ph/data/regions/static_precincts_2040.json\n",
      "Retrying https://2022electionresults.comelec.gov.ph/data/regions/static_precincts_2040.json\n",
      "Retrying https://2022electionresults.comelec.gov.ph/data/regions/static_precincts_2040.json\n",
      "Expecting value: line 1 column 1 (char 0)\n",
      "Retrying https://2022electionresults.comelec.gov.ph/data/regions/static_precincts_8020.json\n",
      "Retrying https://2022electionresults.comelec.gov.ph/data/regions/static_precincts_8020.json\n",
      "Retrying https://2022electionresults.comelec.gov.ph/data/regions/static_precincts_8020.json\n",
      "Expecting value: line 1 column 1 (char 0)\n",
      "Retrying https://2022electionresults.comelec.gov.ph/data/regions/static_precincts_4040.json\n",
      "Retrying https://2022electionresults.comelec.gov.ph/data/regions/static_precincts_4040.json\n",
      "Retrying https://2022electionresults.comelec.gov.ph/data/regions/static_precincts_4040.json\n",
      "Expecting value: line 1 column 1 (char 0)\n",
      "Retrying https://2022electionresults.comelec.gov.ph/data/regions/static_precincts_9050.json\n",
      "Retrying https://2022electionresults.comelec.gov.ph/data/regions/static_precincts_9050.json\n",
      "Retrying https://2022electionresults.comelec.gov.ph/data/regions/static_precincts_9050.json\n",
      "Expecting value: line 1 column 1 (char 0)\n",
      "Retrying https://2022electionresults.comelec.gov.ph/data/regions/static_precincts_2020.json\n",
      "Retrying https://2022electionresults.comelec.gov.ph/data/regions/static_precincts_2020.json\n",
      "Retrying https://2022electionresults.comelec.gov.ph/data/regions/static_precincts_2020.json\n",
      "Expecting value: line 1 column 1 (char 0)\n",
      "Retrying https://2022electionresults.comelec.gov.ph/data/regions/static_precincts_1260.json\n",
      "Retrying https://2022electionresults.comelec.gov.ph/data/regions/static_precincts_1260.json\n",
      "Retrying https://2022electionresults.comelec.gov.ph/data/regions/static_precincts_1260.json\n",
      "Expecting value: line 1 column 1 (char 0)\n",
      "Retrying https://2022electionresults.comelec.gov.ph/data/regions/static_precincts_8060.json\n",
      "Retrying https://2022electionresults.comelec.gov.ph/data/regions/static_precincts_8060.json\n",
      "Retrying https://2022electionresults.comelec.gov.ph/data/regions/static_precincts_8060.json\n",
      "Expecting value: line 1 column 1 (char 0)\n",
      "Retrying https://2022electionresults.comelec.gov.ph/data/regions/static_precincts_7120.json\n",
      "Retrying https://2022electionresults.comelec.gov.ph/data/regions/static_precincts_7120.json\n",
      "Retrying https://2022electionresults.comelec.gov.ph/data/regions/static_precincts_7120.json\n",
      "Expecting value: line 1 column 1 (char 0)\n",
      "Retrying https://2022electionresults.comelec.gov.ph/data/regions/static_precincts_2090.json\n",
      "Retrying https://2022electionresults.comelec.gov.ph/data/regions/static_precincts_2090.json\n",
      "Retrying https://2022electionresults.comelec.gov.ph/data/regions/static_precincts_2090.json\n",
      "Expecting value: line 1 column 1 (char 0)\n",
      "Retrying https://2022electionresults.comelec.gov.ph/data/regions/static_precincts_1170.json\n",
      "Retrying https://2022electionresults.comelec.gov.ph/data/regions/static_precincts_1170.json\n",
      "Retrying https://2022electionresults.comelec.gov.ph/data/regions/static_precincts_1170.json\n",
      "Expecting value: line 1 column 1 (char 0)\n",
      "Retrying https://2022electionresults.comelec.gov.ph/data/regions/static_precincts_4150.json\n",
      "Retrying https://2022electionresults.comelec.gov.ph/data/regions/static_precincts_4150.json\n",
      "Retrying https://2022electionresults.comelec.gov.ph/data/regions/static_precincts_4150.json\n",
      "Expecting value: line 1 column 1 (char 0)\n",
      "Retrying https://2022electionresults.comelec.gov.ph/data/regions/static_precincts_1120.json\n",
      "Retrying https://2022electionresults.comelec.gov.ph/data/regions/static_precincts_1120.json\n",
      "Retrying https://2022electionresults.comelec.gov.ph/data/regions/static_precincts_1120.json\n",
      "Expecting value: line 1 column 1 (char 0)\n",
      "Retrying https://2022electionresults.comelec.gov.ph/data/regions/static_precincts_7080.json\n",
      "Retrying https://2022electionresults.comelec.gov.ph/data/regions/static_precincts_7080.json\n",
      "Retrying https://2022electionresults.comelec.gov.ph/data/regions/static_precincts_7080.json\n",
      "Expecting value: line 1 column 1 (char 0)\n",
      "Retrying https://2022electionresults.comelec.gov.ph/data/regions/static_precincts_6080.json\n",
      "Retrying https://2022electionresults.comelec.gov.ph/data/regions/static_precincts_6080.json\n",
      "Retrying https://2022electionresults.comelec.gov.ph/data/regions/static_precincts_6080.json\n",
      "Expecting value: line 1 column 1 (char 0)\n",
      "Retrying https://2022electionresults.comelec.gov.ph/data/regions/static_precincts_1080.json\n",
      "Retrying https://2022electionresults.comelec.gov.ph/data/regions/static_precincts_1080.json\n",
      "Retrying https://2022electionresults.comelec.gov.ph/data/regions/static_precincts_1080.json\n",
      "Expecting value: line 1 column 1 (char 0)\n",
      "Retrying https://2022electionresults.comelec.gov.ph/data/regions/static_precincts_8090.json\n",
      "Retrying https://2022electionresults.comelec.gov.ph/data/regions/static_precincts_8090.json\n",
      "Retrying https://2022electionresults.comelec.gov.ph/data/regions/static_precincts_8090.json\n",
      "Expecting value: line 1 column 1 (char 0)\n",
      "Retrying https://2022electionresults.comelec.gov.ph/data/regions/static_precincts_8070.json\n",
      "Retrying https://2022electionresults.comelec.gov.ph/data/regions/static_precincts_8070.json\n",
      "Retrying https://2022electionresults.comelec.gov.ph/data/regions/static_precincts_8070.json\n",
      "Expecting value: line 1 column 1 (char 0)\n",
      "Retrying https://2022electionresults.comelec.gov.ph/data/regions/static_precincts_6130.json\n",
      "Retrying https://2022electionresults.comelec.gov.ph/data/regions/static_precincts_6130.json\n",
      "Retrying https://2022electionresults.comelec.gov.ph/data/regions/static_precincts_6130.json\n",
      "Expecting value: line 1 column 1 (char 0)\n",
      "Retrying https://2022electionresults.comelec.gov.ph/data/regions/static_precincts_6110.json\n",
      "Retrying https://2022electionresults.comelec.gov.ph/data/regions/static_precincts_6110.json\n",
      "Retrying https://2022electionresults.comelec.gov.ph/data/regions/static_precincts_6110.json\n",
      "Expecting value: line 1 column 1 (char 0)\n",
      "Retrying https://2022electionresults.comelec.gov.ph/data/regions/static_precincts_5150.json\n",
      "Retrying https://2022electionresults.comelec.gov.ph/data/regions/static_precincts_5150.json\n",
      "Retrying https://2022electionresults.comelec.gov.ph/data/regions/static_precincts_5150.json\n",
      "Expecting value: line 1 column 1 (char 0)\n",
      "Retrying https://2022electionresults.comelec.gov.ph/data/regions/static_precincts_6070.json\n",
      "Retrying https://2022electionresults.comelec.gov.ph/data/regions/static_precincts_6070.json\n",
      "Retrying https://2022electionresults.comelec.gov.ph/data/regions/static_precincts_6070.json\n",
      "Expecting value: line 1 column 1 (char 0)\n",
      "Retrying https://2022electionresults.comelec.gov.ph/data/regions/static_precincts_8110.json\n",
      "Retrying https://2022electionresults.comelec.gov.ph/data/regions/static_precincts_8110.json\n",
      "Retrying https://2022electionresults.comelec.gov.ph/data/regions/static_precincts_8110.json\n",
      "Expecting value: line 1 column 1 (char 0)\n",
      "Retrying https://2022electionresults.comelec.gov.ph/data/regions/static_precincts_2060.json\n",
      "Retrying https://2022electionresults.comelec.gov.ph/data/regions/static_precincts_2060.json\n",
      "Retrying https://2022electionresults.comelec.gov.ph/data/regions/static_precincts_2060.json\n",
      "Expecting value: line 1 column 1 (char 0)\n",
      "Retrying https://2022electionresults.comelec.gov.ph/data/regions/static_precincts_3070.json\n",
      "Retrying https://2022electionresults.comelec.gov.ph/data/regions/static_precincts_3070.json\n",
      "Retrying https://2022electionresults.comelec.gov.ph/data/regions/static_precincts_3070.json\n",
      "Expecting value: line 1 column 1 (char 0)\n"
     ]
    },
    {
     "data": {
      "text/plain": [
       "100"
      ]
     },
     "execution_count": 23,
     "metadata": {},
     "output_type": "execute_result"
    }
   ],
   "source": [
    "from tqdm.notebook import tqdm\n",
    "\n",
    "avail = [x.split('.')[0] for x in os.listdir(DIRECTORY)]\n",
    "\n",
    "torip = set(unique_codes) - set(avail)\n",
    "\n",
    "for code in tqdm(torip):\n",
    "    scrape_vbc(code, user_agent_rotator, endpoint, DIRECTORY)\n",
    "    time.sleep(0.2)\n",
    "len(torip)"
   ]
  },
  {
   "cell_type": "code",
   "execution_count": 22,
   "metadata": {},
   "outputs": [
    {
     "data": {
      "application/vnd.jupyter.widget-view+json": {
       "model_id": "f3a2ea49c7814d39bb006a07921a6ae1",
       "version_major": 2,
       "version_minor": 0
      },
      "text/plain": [
       "  0%|          | 0/1582 [00:00<?, ?it/s]"
      ]
     },
     "metadata": {},
     "output_type": "display_data"
    },
    {
     "data": {
      "text/plain": [
       "101498"
      ]
     },
     "execution_count": 22,
     "metadata": {},
     "output_type": "execute_result"
    }
   ],
   "source": [
    "bob = 0\n",
    "for i in tqdm(os.listdir(DIRECTORY)):\n",
    "    with open(DIRECTORY+i, 'r', encoding='utf-8') as f:\n",
    "        cnt = len([x for x in json.load(f).keys() if x!=i.split('.')[0]])-1\n",
    "        assert cnt >= 0\n",
    "        bob+=cnt\n",
    "bob"
   ]
  },
  {
   "cell_type": "code",
   "execution_count": 26,
   "metadata": {},
   "outputs": [
    {
     "data": {
      "text/plain": [
       "1582"
      ]
     },
     "execution_count": 26,
     "metadata": {},
     "output_type": "execute_result"
    }
   ],
   "source": [
    "with open('avail_vbc.json', 'w', encoding='utf-8') as f:\n",
    "    json.dump({'avail':list(avail)}, f, ensure_ascii=True, indent=4)\n",
    "len(avail)"
   ]
  }
 ],
 "metadata": {
  "interpreter": {
   "hash": "413c54d42d867d78bc5693b88112002b4b75f03abc9fed1665b973f73c05d110"
  },
  "kernelspec": {
   "display_name": "Python 3.10.0 64-bit",
   "language": "python",
   "name": "python3"
  },
  "language_info": {
   "codemirror_mode": {
    "name": "ipython",
    "version": 3
   },
   "file_extension": ".py",
   "mimetype": "text/x-python",
   "name": "python",
   "nbconvert_exporter": "python",
   "pygments_lexer": "ipython3",
   "version": "3.10.0"
  },
  "orig_nbformat": 4
 },
 "nbformat": 4,
 "nbformat_minor": 2
}
